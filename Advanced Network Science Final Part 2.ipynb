{
 "cells": [
  {
   "cell_type": "code",
   "execution_count": 1,
   "metadata": {
    "collapsed": true
   },
   "outputs": [],
   "source": [
    "import random\n",
    "import numpy as np\n",
    "import matplotlib.pyplot as plt\n",
    "from collections import Counter\n",
    "%matplotlib inline\n",
    "import networkx as nx"
   ]
  },
  {
   "cell_type": "markdown",
   "metadata": {},
   "source": [
    "# Topic: Vázquez link-copy model\n",
    "\n",
    "Recall that the Barabasi-Albert preferential attachment model is used to create graphs with wide, or fat-tailed, degree distributions. This is desirable since we observe this scale-free behavior in many real world graphs, *e.g.* social networks. One feature that the BA model lacks when comparing to real social networks is node clustering. Real-world networks tend to have many triangles, and thus a higher average clustering coefficient, than random graphs.\n",
    "\n",
    "In the lectures (go back to the slides on network models, I believe VI) we discussed extensions to the BA model that help capture additional network features. For this part of the exam, you are going to implement one of these extensions: the Vázquez link-copy model."
   ]
  },
  {
   "cell_type": "markdown",
   "metadata": {},
   "source": [
    "The algorithm has three parameters:\n",
    "\n",
    "* *N*: the number of nodes in the resulting graph;\n",
    "* *m*: the number of links added at each step;\n",
    "* *p*: the probability of copying a link from a neighbor.\n",
    "\n",
    "And the steps are as follows:\n",
    "\n",
    "1. Start with a clique of *m* nodes.\n",
    "2. At each step a new node *i* is added to the system, and sets *m* (>1) links as follows:\n",
    "    1. The first new link targets a randomly chosen node *j* (distinct from *i*).\n",
    "    2. From the second link onwards:\n",
    "        1. With probability $p$ the new link target is a randomly-chosen neighbor of *j* (*i* copies a link from *j*);\n",
    "        2. With probability $1-p$, the link target is a randomly-chosen node.\n",
    "3. Repeat step 2 until you have *N* total nodes in the graph.\n",
    "\n",
    "A caveat: you probably want to choose *j* and the link targets *before* adding nodes and links in order to avoid self-loops."
   ]
  },
  {
   "cell_type": "markdown",
   "metadata": {},
   "source": [
    "## Exercise 1\n",
    "\n",
    "Complete the function below to create a graph using the link-copy model. You might find it helpful to go back and look at the tutorials in which we implemented other network models; this is similar to the BA model.\n",
    "\n",
    "Notes:\n",
    "* Make sure that the resulting graph has exactly *N* edges.\n",
    "* As a simple check, `link_copy_graph(200, 4, 0.9)` should give you a graph with around 700 edges. "
   ]
  },
  {
   "cell_type": "code",
   "execution_count": 2,
   "metadata": {
    "collapsed": false
   },
   "outputs": [],
   "source": [
    "def link_copy_graph(N, m, p):\n",
    "    if not (1 <= m < N):\n",
    "        raise nx.NetworkXError('m must satisfy ``1 <= m < n``')\n",
    "        \n",
    "    G = nx.complete_graph(m)\n",
    "    \n",
    "    for i in range(m, N):\n",
    "        \n",
    "        neighbors = set()\n",
    "        \n",
    "        j = random.choice(G.nodes())\n",
    "        \n",
    "        while len(neighbors) < m-1:\n",
    "            \n",
    "            probability_roll = random.random()\n",
    "        \n",
    "            if probability_roll < p:\n",
    "                target = random.choice(G.neighbors(j))\n",
    "                neighbors.add(target)\n",
    "            else:\n",
    "                target = random.choice([node for node in G.nodes() if node not in neighbors])\n",
    "                neighbors.add(target)\n",
    "        \n",
    "        G.add_node(i)\n",
    "        G.add_edge(i, j)\n",
    "        for neighbor in neighbors:\n",
    "            G.add_edge(i, neighbor)   \n",
    "        \n",
    "    return G"
   ]
  },
  {
   "cell_type": "markdown",
   "metadata": {},
   "source": [
    "## Exercise 1x (2pt extra credit for correct answer)\n",
    "Note that we execute the loop in the above algorithm a fixed (*i.e.* non-random) number of times. Generate a few graphs using the parameters `(200, 4, 0.9)` and observe that the number of edges fluctuates. Where do these fluctuations come from?"
   ]
  },
  {
   "cell_type": "code",
   "execution_count": 3,
   "metadata": {
    "collapsed": false
   },
   "outputs": [
    {
     "name": "stdout",
     "output_type": "stream",
     "text": [
      "200\n",
      "790\n"
     ]
    }
   ],
   "source": [
    "G = link_copy_graph(200, 4, 0.9)\n",
    "\n",
    "print (len(G))\n",
    "print (len(G.edges()))\n",
    "\n",
    "#The fluctuations come from j sometimes being the same value twice. \n",
    "#When this occurs, an existing edge is replicated and thus not added."
   ]
  },
  {
   "cell_type": "markdown",
   "metadata": {},
   "source": [
    "## Exercise 2\n",
    "\n",
    "The *raison d'être* for the Vasquez model is that it supposedly results in higher clustering coefficients. Explore the relationship between the *p* parameter and the average clustering coefficient by creating several graphs with varying *p* and plotting the resulting average clustering coefficients.\n",
    "\n",
    "* Use $N=200$ and $m=4$ for each generated graph.\n",
    "* The x-axis should be *p* and the y-axis the graph's average clustering coefficient.\n",
    "* You should have at least 11 plot points covering the domain of *p*, *e.g.* [0.0, 0.1, ..., 0.9, 1.0]\n",
    "  * you might consider using [numpy.linspace](https://docs.scipy.org/doc/numpy/reference/generated/numpy.linspace.html) for this"
   ]
  },
  {
   "cell_type": "code",
   "execution_count": 4,
   "metadata": {
    "collapsed": false
   },
   "outputs": [
    {
     "data": {
      "text/plain": [
       "<Container object of 11 artists>"
      ]
     },
     "execution_count": 4,
     "metadata": {},
     "output_type": "execute_result"
    },
    {
     "data": {
      "image/png": "[encoded data removed]",
      "text/plain": [
       "<matplotlib.figure.Figure at 0x28ad387de80>"
      ]
     },
     "metadata": {},
     "output_type": "display_data"
    }
   ],
   "source": [
    "graphs = []\n",
    "\n",
    "plot_points = np.linspace(0, 1, 11)\n",
    "\n",
    "avg_cc = []\n",
    "\n",
    "for i in plot_points:\n",
    "    graphs.append(link_copy_graph(200, 4, i))\n",
    "    \n",
    "for graph in graphs:\n",
    "    avg_cc.append(nx.average_clustering(graph))\n",
    "    \n",
    "plt.bar(list(plot_points), avg_cc, width=.09, align='center')"
   ]
  },
  {
   "cell_type": "markdown",
   "metadata": {},
   "source": [
    "## Exercise 3\n",
    "\n",
    "We introduced this model as an extension to Barabasi-Alberts, but it may not be obvious *a priori* that this model produces a graph with a fat-tailed degree distribution. Show using statistics and/or histograms that $p=0$ results in a narrow-tailed degree distribution, $p=1$ results in a fat tail, and $p=0.5$ is somewhere in between.\n",
    "\n",
    "Again, you probably want to look back at your tutorials."
   ]
  },
  {
   "cell_type": "code",
   "execution_count": 5,
   "metadata": {
    "collapsed": false
   },
   "outputs": [],
   "source": [
    "def degree_histogram(G, plot_type='bar', **kwargs):\n",
    "    degree_count = Counter(G.degree().values())\n",
    "    degrees = list(degree_count.keys())\n",
    "    counts = list(degree_count.values())\n",
    "    \n",
    "    if plot_type == 'bar':\n",
    "        plt.bar(degrees, counts, align='center', **kwargs)\n",
    "    else:\n",
    "        plt.scatter(degrees, counts, **kwargs)"
   ]
  },
  {
   "cell_type": "code",
   "execution_count": 6,
   "metadata": {
    "collapsed": false
   },
   "outputs": [
    {
     "data": {
      "text/plain": [
       "[]"
      ]
     },
     "execution_count": 6,
     "metadata": {},
     "output_type": "execute_result"
    },
    {
     "data": {
      "image/png": "[encoded data removed]",
      "text/plain": [
       "<matplotlib.figure.Figure at 0x28ad4a09940>"
      ]
     },
     "metadata": {},
     "output_type": "display_data"
    }
   ],
   "source": [
    "#narrow tail\n",
    "\n",
    "G_0p = link_copy_graph(10000, 4, 0)\n",
    "degree_histogram(G_0p, \"scatter\")\n",
    "plt.loglog()"
   ]
  },
  {
   "cell_type": "code",
   "execution_count": 7,
   "metadata": {
    "collapsed": false
   },
   "outputs": [
    {
     "data": {
      "text/plain": [
       "[]"
      ]
     },
     "execution_count": 7,
     "metadata": {},
     "output_type": "execute_result"
    },
    {
     "data": {
      "image/png": "[encoded data removed]",
      "text/plain": [
       "<matplotlib.figure.Figure at 0x28ad69fc4e0>"
      ]
     },
     "metadata": {},
     "output_type": "display_data"
    }
   ],
   "source": [
    "#somewhere in between\n",
    "\n",
    "G_05p = link_copy_graph(10000, 4, 0.5)\n",
    "degree_histogram(G_05p, \"scatter\")\n",
    "plt.loglog()"
   ]
  },
  {
   "cell_type": "code",
   "execution_count": 8,
   "metadata": {
    "collapsed": false
   },
   "outputs": [
    {
     "data": {
      "text/plain": [
       "[]"
      ]
     },
     "execution_count": 8,
     "metadata": {},
     "output_type": "execute_result"
    },
    {
     "data": {
      "image/png": "[encoded data removed]",
      "text/plain": [
       "<matplotlib.figure.Figure at 0x28ad7cd18d0>"
      ]
     },
     "metadata": {},
     "output_type": "display_data"
    }
   ],
   "source": [
    "#fat tail\n",
    "\n",
    "G_1p = link_copy_graph(10000, 4, 1)\n",
    "degree_histogram(G_1p, \"scatter\")\n",
    "plt.loglog()"
   ]
  },
  {
   "cell_type": "markdown",
   "metadata": {},
   "source": [
    "# Topic: Comparing network partitions"
   ]
  },
  {
   "cell_type": "markdown",
   "metadata": {},
   "source": [
    "The [variation of information][1] (VI) is a measure of similarity between two partitions $P_1$ and $P_2$ of the same network into communities. It computes how much information one must add to partition $P_1$ to recover partition $P_2$. So, if the partitions are identical, the VI is zero; if they differ the VI is different from zero, and VI can be large if the partitions are very different. Here we ask you to write the formula for the VI as seen in the [Wikipedia page][1].\n",
    "\n",
    "[1]: https://en.wikipedia.org/wiki/Variation_of_information\n",
    "\n",
    "Suppose there are $n$ nodes in the graph, and that partition $P_1$ has $n_1$ communities, and $P_2$ has $n_2$ communities. You need to compute two vectors (or lists) and one 2-dimensional array (or matrix, or list-of-lists). Vector ${\\bf p}$ has $n_1$ entries: entry $p_i$ (the *i*-th item) is the fraction of nodes of community $i$ in partition $P_1$. That is, you need to divide the number of nodes of community $i$ in partition $P_1$ by $n$ and loop over all communities of the partition. Similarly, vector ${\\bf q}$ has $n_2$ entries: entry $q_i$ is the fraction of nodes of community $i$ in partition $P_2$. \n",
    "\n",
    "The array ${\\bf R}$ measures the relative overlap of communities of the two partitions. The element $R_{ij}$ (the item at row *i*, column *j*) is the proportion of nodes in common between community $i$ in partition $P_1$ and community $j$ in partition $P_2$, *i.e.* the number of nodes in common divided by $n$.\n",
    "\n",
    "Once you have computed ${\\bf p}$, ${\\bf q}$ and ${\\bf R}$ you can compute the VI from the function below:"
   ]
  },
  {
   "cell_type": "code",
   "execution_count": 9,
   "metadata": {
    "collapsed": true
   },
   "outputs": [],
   "source": [
    "#By Clayton Davis\n",
    "import numpy as np\n",
    "\n",
    "# This uses notation from the Wikipedia page\n",
    "def variation_of_information(p_vec, q_vec, R_arr):\n",
    "    running_sum = 0\n",
    "    for i, p_i in enumerate(p_vec):\n",
    "        for j, q_i in enumerate(q_vec):\n",
    "            r_ij = R_arr[i][j]\n",
    "            if r_ij > 0:\n",
    "                log_sum = np.log(r_ij / p_i) + np.log(r_ij / q_i)\n",
    "                running_sum += R_arr[i][j] * log_sum\n",
    "    return -running_sum"
   ]
  },
  {
   "cell_type": "markdown",
   "metadata": {},
   "source": [
    "## Exercise 4\n",
    "\n",
    "Below are two partitions of the famous Karate Club graph generated by Louvain and Girvan-Newman clustering, respectively. Create ${\\bf p}$, ${\\bf q}$ and ${\\bf R}$ given these two partitions, and compute the variation of information. If you did it right, you should get a value of $0.46$\n",
    "\n",
    "Hints:\n",
    "* You may want to look back at tutorial 2 on Schelling's model for how to create and work with `numpy` arrays/matrices.\n",
    "* If you accidentally change P_1 and P_2 you won't get the right value for VI. It's probably best to work in a different notebook cell."
   ]
  },
  {
   "cell_type": "code",
   "execution_count": 10,
   "metadata": {
    "collapsed": false
   },
   "outputs": [],
   "source": [
    "P_1 = {\n",
    "    0: 0,\n",
    "    1: 0,\n",
    "    2: 0,\n",
    "    3: 0,\n",
    "    4: 1,\n",
    "    5: 1,\n",
    "    6: 1,\n",
    "    7: 0,\n",
    "    8: 2,\n",
    "    9: 0,\n",
    "    10: 1,\n",
    "    11: 0,\n",
    "    12: 0,\n",
    "    13: 0,\n",
    "    14: 2,\n",
    "    15: 2,\n",
    "    16: 1,\n",
    "    17: 0,\n",
    "    18: 2,\n",
    "    19: 0,\n",
    "    20: 2,\n",
    "    21: 0,\n",
    "    22: 2,\n",
    "    23: 3,\n",
    "    24: 3,\n",
    "    25: 3,\n",
    "    26: 2,\n",
    "    27: 3,\n",
    "    28: 3,\n",
    "    29: 2,\n",
    "    30: 2,\n",
    "    31: 3,\n",
    "    32: 2,\n",
    "    33: 2,\n",
    "}\n",
    "\n",
    "P_2 = {\n",
    "    0: 0,\n",
    "    1: 0,\n",
    "    2: 1,\n",
    "    3: 0,\n",
    "    4: 2,\n",
    "    5: 2,\n",
    "    6: 2,\n",
    "    7: 0,\n",
    "    8: 3,\n",
    "    9: 4,\n",
    "    10: 2,\n",
    "    11: 0,\n",
    "    12: 0,\n",
    "    13: 0,\n",
    "    14: 3,\n",
    "    15: 3,\n",
    "    16: 2,\n",
    "    17: 0,\n",
    "    18: 3,\n",
    "    19: 0,\n",
    "    20: 3,\n",
    "    21: 0,\n",
    "    22: 3,\n",
    "    23: 3,\n",
    "    24: 1,\n",
    "    25: 1,\n",
    "    26: 3,\n",
    "    27: 1,\n",
    "    28: 1,\n",
    "    29: 3,\n",
    "    30: 3,\n",
    "    31: 1,\n",
    "    32: 3,\n",
    "    33: 3,\n",
    "}\n"
   ]
  },
  {
   "cell_type": "code",
   "execution_count": 11,
   "metadata": {
    "collapsed": false
   },
   "outputs": [
    {
     "name": "stdout",
     "output_type": "stream",
     "text": [
      "Counter({0: 12, 2: 11, 3: 6, 1: 5})\n",
      "Counter({3: 12, 0: 10, 1: 6, 2: 5, 4: 1})\n",
      "[0.35294117647058826, 0.14705882352941177, 0.3235294117647059, 0.17647058823529413]\n",
      "[0.29411764705882354, 0.17647058823529413, 0.14705882352941177, 0.35294117647058826, 0.029411764705882353]\n"
     ]
    }
   ],
   "source": [
    "P_1_counts = Counter(P_1.values())\n",
    "P_2_counts = Counter(P_2.values())\n",
    "\n",
    "p = []\n",
    "q = []\n",
    "for item in P_1_counts:\n",
    "    value = P_1_counts[item]/34\n",
    "    p.append(value)\n",
    "    \n",
    "for item in P_2_counts:\n",
    "    value = P_2_counts[item]/34\n",
    "    q.append(value)\n",
    "\n",
    "print(P_1_counts)\n",
    "print(P_2_counts)\n",
    "print (p)\n",
    "print (q)"
   ]
  },
  {
   "cell_type": "code",
   "execution_count": 12,
   "metadata": {
    "collapsed": false
   },
   "outputs": [
    {
     "data": {
      "text/plain": [
       "[[0.29411764705882354, 0.029411764705882353, 0.0, 0.0, 0.029411764705882353],\n",
       " [0.0, 0.0, 0.14705882352941177, 0.0, 0.0],\n",
       " [0.0, 0.0, 0.0, 0.3235294117647059, 0.0],\n",
       " [0.0, 0.14705882352941177, 0.0, 0.029411764705882353, 0.0]]"
      ]
     },
     "execution_count": 12,
     "metadata": {},
     "output_type": "execute_result"
    }
   ],
   "source": [
    "P1_community_lists = []\n",
    "P1list0 = []\n",
    "P1list1 = []\n",
    "P1list2 = []\n",
    "P1list3 = []\n",
    "\n",
    "P2_community_lists = []\n",
    "P2list0 = []\n",
    "P2list1 = []\n",
    "P2list2 = []\n",
    "P2list3 = []\n",
    "P2list4 = []\n",
    "\n",
    "for key, value in P_1.items():\n",
    "        if value == 0:\n",
    "            P1list0.append(key)\n",
    "        if value == 1:\n",
    "            P1list1.append(key)\n",
    "        if value == 2:\n",
    "            P1list2.append(key)\n",
    "        if value == 3:\n",
    "            P1list3.append(key)\n",
    "\n",
    "for key, value in P_2.items():\n",
    "        if value == 0:\n",
    "            P2list0.append(key)\n",
    "        if value == 1:\n",
    "            P2list1.append(key)\n",
    "        if value == 2:\n",
    "            P2list2.append(key)\n",
    "        if value == 3:\n",
    "            P2list3.append(key)\n",
    "        if value == 4:\n",
    "            P2list4.append(key)\n",
    "            \n",
    "P1_community_lists.append(P1list0)\n",
    "P1_community_lists.append(P1list1)\n",
    "P1_community_lists.append(P1list2)\n",
    "P1_community_lists.append(P1list3)\n",
    "\n",
    "P2_community_lists.append(P2list0)\n",
    "P2_community_lists.append(P2list1)\n",
    "P2_community_lists.append(P2list2)\n",
    "P2_community_lists.append(P2list3)\n",
    "P2_community_lists.append(P2list4)\n",
    "\n",
    "Z = np.random.randint(0, 1, size=(4,5))\n",
    "\n",
    "R = []\n",
    "\n",
    "num_rows, num_cols = Z.shape\n",
    "\n",
    "for i in range(num_rows):\n",
    "    i_row = []\n",
    "    for j in range(num_cols):\n",
    "        var = (len(set(P1_community_lists[i]).intersection(set(P2_community_lists[j]))))\n",
    "        i_row.append(float(var)/34)\n",
    "    R.append(i_row)\n",
    "    \n",
    "R\n",
    "\n",
    "\n",
    "\n",
    "\n"
   ]
  },
  {
   "cell_type": "code",
   "execution_count": 13,
   "metadata": {
    "collapsed": false
   },
   "outputs": [
    {
     "data": {
      "text/plain": [
       "0.46005279913485686"
      ]
     },
     "execution_count": 13,
     "metadata": {},
     "output_type": "execute_result"
    }
   ],
   "source": [
    "variation_of_information(p, q, R)"
   ]
  },
  {
   "cell_type": "code",
   "execution_count": null,
   "metadata": {
    "collapsed": true
   },
   "outputs": [],
   "source": []
  }
 ],
 "metadata": {
  "anaconda-cloud": {},
  "kernelspec": {
   "display_name": "Python [default]",
   "language": "python",
   "name": "python3"
  },
  "language_info": {
   "codemirror_mode": {
    "name": "ipython",
    "version": 3
   },
   "file_extension": ".py",
   "mimetype": "text/x-python",
   "name": "python",
   "nbconvert_exporter": "python",
   "pygments_lexer": "ipython3",
   "version": "3.5.2"
  }
 },
 "nbformat": 4,
 "nbformat_minor": 1
}
