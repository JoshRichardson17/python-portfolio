{
 "cells": [
  {
   "cell_type": "markdown",
   "metadata": {
    "collapsed": false
   },
   "source": [
    "# Twitter REST API for fun and profit\n",
    "\n",
    "[Twitter REST API reference](https://dev.twitter.com/rest/reference)\n",
    "\n",
    "[Twitter Search API reference](https://dev.twitter.com/rest/public/search)\n",
    "\n",
    "## Boilerplate"
   ]
  },
  {
   "cell_type": "code",
   "execution_count": 1,
   "metadata": {
    "collapsed": false
   },
   "outputs": [
   ],
   "source": [
    "import statistics\n",
    "\n",
    "import requests\n",
    "\n",
    "consumer_key = '96szQi0MOlGVJV0A01krEX1t6'\n",
    "consumer_secret = 'Pp8F7vuqxVycEk8zkleaod0RqZyLGYQQEb9FBJWRflY27LyYlB'\n",
    "\n",
    "app_auth_url = 'https://api.twitter.com/oauth2/token'\n",
    "app_auth_url\n",
    "auth_resp = requests.post(\n",
    "    app_auth_url,\n",
    "    auth=(consumer_key, consumer_secret),\n",
    "    data={'grant_type': 'client_credentials'}\n",
    ")\n",
    "\n",
    "auth_resp_data = auth_resp.json()\n",
    "bearer_token = auth_resp_data['access_token']\n",
    "bearer = 'Bearer ' + bearer_token\n",
    "\n",
    "HEADERS = {'Authorization': bearer}\n",
    "API_ROOT = 'https://api.twitter.com/1.1/'"
   ]
  },
  {
   "cell_type": "code",
   "execution_count": 2,
   "metadata": {
    "collapsed": false
   },
   "outputs": [
    {
     "data": {
      "text/plain": [
       "'Bearer AAAAAAAAAAAAAAAAAAAAAMWXxwAAAAAA6yrL1ByLXpPvyrXturxZWvJ%2FDrc%3DwzTqOQafZU1kERLOIiLrNmSvoRxGz5BmkdzfxYgERZwA0ZwQJo'"
      ]
     },
     "execution_count": 2,
     "metadata": {
     },
     "output_type": "execute_result"
    }
   ],
   "source": [
    "bearer"
   ]
  },
  {
   "cell_type": "markdown",
   "metadata": {
    "collapsed": false
   },
   "source": [
    "# User timelines"
   ]
  },
  {
   "cell_type": "code",
   "execution_count": 3,
   "metadata": {
    "collapsed": false
   },
   "outputs": [
   ],
   "source": [
    "url = API_ROOT + 'statuses/user_timeline.json'\n",
    "\n",
    "params = {\n",
    "    'screen_name': 'potus',\n",
    "}\n",
    "\n",
    "resp = requests.get(url, headers=HEADERS, params=params)\n",
    "user_timeline = resp.json()"
   ]
  },
  {
   "cell_type": "code",
   "execution_count": 4,
   "metadata": {
    "collapsed": false
   },
   "outputs": [
    {
     "data": {
      "text/plain": [
       "20"
      ]
     },
     "execution_count": 4,
     "metadata": {
     },
     "output_type": "execute_result"
    }
   ],
   "source": [
    "type(user_timeline)\n",
    "\n",
    "len(user_timeline)"
   ]
  },
  {
   "cell_type": "code",
   "execution_count": 5,
   "metadata": {
    "collapsed": false
   },
   "outputs": [
    {
     "data": {
      "text/plain": [
       "{'contributors': None,\n",
       " 'coordinates': None,\n",
       " 'created_at': 'Mon Jul 24 20:18:34 +0000 2017',\n",
       " 'entities': {'hashtags': [],\n",
       "  'symbols': [],\n",
       "  'urls': [{'display_url': 'pscp.tv/w/bET7MDEyMzE3…',\n",
       "    'expanded_url': 'https://www.pscp.tv/w/bET7MDEyMzE3NDF8MXlwS2Rsek9rT0xLV_x3_XnsKc_UJsJyrpNIioPSuUq_gF8aFXYM8CruZ4vf',\n",
       "    'indices': [112, 135],\n",
       "    'url': 'https://t.co/Yxm94XKtuv'}],\n",
       "  'user_mentions': [{'id': 25073877,\n",
       "    'id_str': '25073877',\n",
       "    'indices': [3, 19],\n",
       "    'name': 'Donald J. Trump',\n",
       "    'screen_name': 'realDonaldTrump'},\n",
       "   {'id': 830128820447539208,\n",
       "    'id_str': '830128820447539208',\n",
       "    'indices': [57, 72],\n",
       "    'name': 'Rick Perry',\n",
       "    'screen_name': 'SecretaryPerry'},\n",
       "   {'id': 827258161841135623,\n",
       "    'id_str': '827258161841135623',\n",
       "    'indices': [74, 89],\n",
       "    'name': 'Secretary Ryan Zinke',\n",
       "    'screen_name': 'SecretaryZinke'},\n",
       "   {'id': 829782369670410240,\n",
       "    'id_str': '829782369670410240',\n",
       "    'indices': [95, 106],\n",
       "    'name': 'Tom Price, M.D.',\n",
       "    'screen_name': 'SecPriceMD'}]},\n",
       " 'favorite_count': 0,\n",
       " 'favorited': False,\n",
       " 'geo': None,\n",
       " 'id': 889580589669642244,\n",
       " 'id_str': '889580589669642244',\n",
       " 'in_reply_to_screen_name': None,\n",
       " 'in_reply_to_status_id': None,\n",
       " 'in_reply_to_status_id_str': None,\n",
       " 'in_reply_to_user_id': None,\n",
       " 'in_reply_to_user_id_str': None,\n",
       " 'is_quote_status': False,\n",
       " 'lang': 'en',\n",
       " 'place': None,\n",
       " 'possibly_sensitive': False,\n",
       " 'retweet_count': 4791,\n",
       " 'retweeted': False,\n",
       " 'retweeted_status': {'contributors': None,\n",
       "  'coordinates': None,\n",
       "  'created_at': 'Mon Jul 24 20:15:25 +0000 2017',\n",
       "  'entities': {'hashtags': [],\n",
       "   'symbols': [],\n",
       "   'urls': [{'display_url': 'pscp.tv/w/bET7MDEyMzE3…',\n",
       "     'expanded_url': 'https://www.pscp.tv/w/bET7MDEyMzE3NDF8MXlwS2Rsek9rT0xLV_x3_XnsKc_UJsJyrpNIioPSuUq_gF8aFXYM8CruZ4vf',\n",
       "     'indices': [91, 114],\n",
       "     'url': 'https://t.co/Yxm94XKtuv'}],\n",
       "   'user_mentions': [{'id': 830128820447539208,\n",
       "     'id_str': '830128820447539208',\n",
       "     'indices': [36, 51],\n",
       "     'name': 'Rick Perry',\n",
       "     'screen_name': 'SecretaryPerry'},\n",
       "    {'id': 827258161841135623,\n",
       "     'id_str': '827258161841135623',\n",
       "     'indices': [53, 68],\n",
       "     'name': 'Secretary Ryan Zinke',\n",
       "     'screen_name': 'SecretaryZinke'},\n",
       "    {'id': 829782369670410240,\n",
       "     'id_str': '829782369670410240',\n",
       "     'indices': [74, 85],\n",
       "     'name': 'Tom Price, M.D.',\n",
       "     'screen_name': 'SecPriceMD'}]},\n",
       "  'favorite_count': 17529,\n",
       "  'favorited': False,\n",
       "  'geo': None,\n",
       "  'id': 889579795176181761,\n",
       "  'id_str': '889579795176181761',\n",
       "  'in_reply_to_screen_name': None,\n",
       "  'in_reply_to_status_id': None,\n",
       "  'in_reply_to_status_id_str': None,\n",
       "  'in_reply_to_user_id': None,\n",
       "  'in_reply_to_user_id_str': None,\n",
       "  'is_quote_status': False,\n",
       "  'lang': 'en',\n",
       "  'place': None,\n",
       "  'possibly_sensitive': False,\n",
       "  'retweet_count': 4791,\n",
       "  'retweeted': False,\n",
       "  'source': '<a href=\"http://twitter.com/download/iphone\" rel=\"nofollow\">Twitter for iPhone</a>',\n",
       "  'text': 'Arriving at Joint Base Andrews with @SecretaryPerry, @SecretaryZinke, and @SecPriceMD..... https://t.co/Yxm94XKtuv',\n",
       "  'truncated': False,\n",
       "  'user': {'contributors_enabled': False,\n",
       "   'created_at': 'Wed Mar 18 13:46:38 +0000 2009',\n",
       "   'default_profile': False,\n",
       "   'default_profile_image': False,\n",
       "   'description': '45th President of the United States of America',\n",
       "   'entities': {'description': {'urls': []}},\n",
       "   'favourites_count': 14,\n",
       "   'follow_request_sent': None,\n",
       "   'followers_count': 34436419,\n",
       "   'following': None,\n",
       "   'friends_count': 46,\n",
       "   'geo_enabled': True,\n",
       "   'has_extended_profile': False,\n",
       "   'id': 25073877,\n",
       "   'id_str': '25073877',\n",
       "   'is_translation_enabled': True,\n",
       "   'is_translator': False,\n",
       "   'lang': 'en',\n",
       "   'listed_count': 73197,\n",
       "   'location': 'Washington, DC',\n",
       "   'name': 'Donald J. Trump',\n",
       "   'notifications': None,\n",
       "   'profile_background_color': '6D5C18',\n",
       "   'profile_background_image_url': 'http://pbs.twimg.com/profile_background_images/530021613/trump_scotland__43_of_70_cc.jpg',\n",
       "   'profile_background_image_url_https': 'https://pbs.twimg.com/profile_background_images/530021613/trump_scotland__43_of_70_cc.jpg',\n",
       "   'profile_background_tile': True,\n",
       "   'profile_banner_url': 'https://pbs.twimg.com/profile_banners/25073877/1500568149',\n",
       "   'profile_image_url': 'http://pbs.twimg.com/profile_images/874276197357596672/kUuht00m_normal.jpg',\n",
       "   'profile_image_url_https': 'https://pbs.twimg.com/profile_images/874276197357596672/kUuht00m_normal.jpg',\n",
       "   'profile_link_color': '1B95E0',\n",
       "   'profile_sidebar_border_color': 'BDDCAD',\n",
       "   'profile_sidebar_fill_color': 'C5CEC0',\n",
       "   'profile_text_color': '333333',\n",
       "   'profile_use_background_image': True,\n",
       "   'protected': False,\n",
       "   'screen_name': 'realDonaldTrump',\n",
       "   'statuses_count': 35355,\n",
       "   'time_zone': 'Eastern Time (US & Canada)',\n",
       "   'translator_type': 'regular',\n",
       "   'url': None,\n",
       "   'utc_offset': -14400,\n",
       "   'verified': True}},\n",
       " 'source': '<a href=\"http://twitter.com/download/iphone\" rel=\"nofollow\">Twitter for iPhone</a>',\n",
       " 'text': 'RT @realDonaldTrump: Arriving at Joint Base Andrews with @SecretaryPerry, @SecretaryZinke, and @SecPriceMD..... https://t.co/Yxm94XKtuv',\n",
       " 'truncated': False,\n",
       " 'user': {'contributors_enabled': False,\n",
       "  'created_at': 'Thu Jan 19 22:54:28 +0000 2017',\n",
       "  'default_profile': True,\n",
       "  'default_profile_image': False,\n",
       "  'description': '45th President of the United States of America, @realDonaldTrump. Tweets archived: https://t.co/eVVzoBb3Zr',\n",
       "  'entities': {'description': {'urls': [{'display_url': 'wh.gov/privacy',\n",
       "      'expanded_url': 'http://wh.gov/privacy',\n",
       "      'indices': [83, 106],\n",
       "      'url': 'https://t.co/eVVzoBb3Zr'}]},\n",
       "   'url': {'urls': [{'display_url': 'WhiteHouse.gov',\n",
       "      'expanded_url': 'http://WhiteHouse.gov',\n",
       "      'indices': [0, 23],\n",
       "      'url': 'https://t.co/IxLjEB2zlE'}]}},\n",
       "  'favourites_count': 54,\n",
       "  'follow_request_sent': None,\n",
       "  'followers_count': 19503955,\n",
       "  'following': None,\n",
       "  'friends_count': 42,\n",
       "  'geo_enabled': True,\n",
       "  'has_extended_profile': True,\n",
       "  'id': 822215679726100480,\n",
       "  'id_str': '822215679726100480',\n",
       "  'is_translation_enabled': False,\n",
       "  'is_translator': False,\n",
       "  'lang': 'en',\n",
       "  'listed_count': 14618,\n",
       "  'location': 'Washington, D.C.',\n",
       "  'name': 'President Trump',\n",
       "  'notifications': None,\n",
       "  'profile_background_color': 'F5F8FA',\n",
       "  'profile_background_image_url': None,\n",
       "  'profile_background_image_url_https': None,\n",
       "  'profile_background_tile': False,\n",
       "  'profile_banner_url': 'https://pbs.twimg.com/profile_banners/822215679726100480/1496285506',\n",
       "  'profile_image_url': 'http://pbs.twimg.com/profile_images/859982100904148992/hv5soju7_normal.jpg',\n",
       "  'profile_image_url_https': 'https://pbs.twimg.com/profile_images/859982100904148992/hv5soju7_normal.jpg',\n",
       "  'profile_link_color': '1DA1F2',\n",
       "  'profile_sidebar_border_color': 'C0DEED',\n",
       "  'profile_sidebar_fill_color': 'DDEEF6',\n",
       "  'profile_text_color': '333333',\n",
       "  'profile_use_background_image': True,\n",
       "  'protected': False,\n",
       "  'screen_name': 'POTUS',\n",
       "  'statuses_count': 926,\n",
       "  'time_zone': 'Eastern Time (US & Canada)',\n",
       "  'translator_type': 'regular',\n",
       "  'url': 'https://t.co/IxLjEB2zlE',\n",
       "  'utc_offset': -14400,\n",
       "  'verified': True}}"
      ]
     },
     "execution_count": 5,
     "metadata": {
     },
     "output_type": "execute_result"
    }
   ],
   "source": [
    "user_timeline[0]"
   ]
  },
  {
   "cell_type": "code",
   "execution_count": 6,
   "metadata": {
    "collapsed": false
   },
   "outputs": [
    {
     "data": {
      "text/plain": [
       "'1499'"
      ]
     },
     "execution_count": 6,
     "metadata": {
     },
     "output_type": "execute_result"
    }
   ],
   "source": [
    "resp.headers['x-rate-limit-remaining']"
   ]
  },
  {
   "cell_type": "code",
   "execution_count": 7,
   "metadata": {
    "collapsed": false
   },
   "outputs": [
   ],
   "source": [
    "url = API_ROOT + 'statuses/user_timeline.json'\n",
    "\n",
    "\n",
    "\n",
    "params = {\n",
    "    'screen_name': 'potus',\n",
    "    'max_id': min(t['id'] for t in user_timeline) -1\n",
    "}\n",
    "\n",
    "resp = requests.get(url, headers=HEADERS, params=params)\n",
    "user_timeline += resp.json()"
   ]
  },
  {
   "cell_type": "code",
   "execution_count": 8,
   "metadata": {
    "collapsed": false
   },
   "outputs": [
    {
     "data": {
      "text/plain": [
       "40"
      ]
     },
     "execution_count": 8,
     "metadata": {
     },
     "output_type": "execute_result"
    }
   ],
   "source": [
    "len(user_timeline)"
   ]
  },
  {
   "cell_type": "code",
   "execution_count": 9,
   "metadata": {
    "collapsed": false
   },
   "outputs": [
    {
     "data": {
      "text/plain": [
       "'1498'"
      ]
     },
     "execution_count": 9,
     "metadata": {
     },
     "output_type": "execute_result"
    }
   ],
   "source": [
    "resp.headers['x-rate-limit-remaining']"
   ]
  },
  {
   "cell_type": "markdown",
   "metadata": {
    "collapsed": false
   },
   "source": [
    "# Verify friendship paradox"
   ]
  },
  {
   "cell_type": "code",
   "execution_count": 10,
   "metadata": {
    "collapsed": false
   },
   "outputs": [
   ],
   "source": [
    "url = API_ROOT + 'users/show.json'\n",
    "params = {\n",
    "    'screen_name': 'clayadavis',\n",
    "}\n",
    "resp = requests.get(url, headers=HEADERS, params=params)\n",
    "user = resp.json()"
   ]
  },
  {
   "cell_type": "code",
   "execution_count": 11,
   "metadata": {
    "collapsed": false
   },
   "outputs": [
    {
     "data": {
      "text/plain": [
       "166"
      ]
     },
     "execution_count": 11,
     "metadata": {
     },
     "output_type": "execute_result"
    }
   ],
   "source": [
    "user['friends_count']"
   ]
  },
  {
   "cell_type": "code",
   "execution_count": 12,
   "metadata": {
    "collapsed": false
   },
   "outputs": [
    {
     "data": {
      "text/plain": [
       "166"
      ]
     },
     "execution_count": 12,
     "metadata": {
     },
     "output_type": "execute_result"
    }
   ],
   "source": [
    "url = API_ROOT + 'friends/ids.json'\n",
    "params = {\n",
    "    'screen_name': 'clayadavis',\n",
    "}\n",
    "resp = requests.get(url, headers=HEADERS, params=params)\n",
    "friends_ids = resp.json()['ids']\n",
    "len(friends_ids)"
   ]
  },
  {
   "cell_type": "code",
   "execution_count": 13,
   "metadata": {
    "collapsed": false
   },
   "outputs": [
   ],
   "source": [
    "url = API_ROOT + 'users/lookup.json'\n",
    "params = {\n",
    "    'user_id': friends_ids[:100],\n",
    "}\n",
    "resp = requests.get(url, headers=HEADERS, params=params)\n",
    "friends = resp.json()\n",
    "#friends[0]"
   ]
  },
  {
   "cell_type": "code",
   "execution_count": 14,
   "metadata": {
    "collapsed": false
   },
   "outputs": [
    {
     "name": "stdout",
     "output_type": "stream",
     "text": [
      "[20, 3, 904, 952, 107, 354, 365, 240, 18, 597, 2425, 269, 28, 196, 390, 125, 95, 42, 2723, 365, 608, 804, 19, 600, 421, 125, 3119, 525, 2290, 316, 1196, 54, 2608, 614, 1689, 308, 35, 239, 2762, 1515, 96, 282, 234, 8189, 1016, 178, 39, 29, 151, 106, 490, 60, 627, 1397, 261, 18, 2794, 233, 429, 1326, 403, 1669, 598, 297, 1528, 2018, 3, 734, 89, 9699, 8, 543, 765, 406, 514, 2340, 717, 305, 1705, 685, 209, 169, 120, 8, 39, 0, 1328, 600, 870, 76, 661, 673, 1286, 644, 148, 432, 913, 79, 190, 6]\n"
     ]
    },
    {
     "data": {
      "text/plain": [
       "814.97"
      ]
     },
     "execution_count": 14,
     "metadata": {
     },
     "output_type": "execute_result"
    }
   ],
   "source": [
    "friends_count = [u['friends_count'] for u in friends]\n",
    "print (friends_count)\n",
    "statistics.mean(friends_count)"
   ]
  },
  {
   "cell_type": "code",
   "execution_count": 15,
   "metadata": {
    "collapsed": false
   },
   "outputs": [
    {
     "data": {
      "text/plain": [
       "396.5"
      ]
     },
     "execution_count": 15,
     "metadata": {
     },
     "output_type": "execute_result"
    }
   ],
   "source": [
    "statistics.median(friends_count)"
   ]
  },
  {
   "cell_type": "markdown",
   "metadata": {
    "collapsed": false
   },
   "source": [
    "# Search"
   ]
  },
  {
   "cell_type": "code",
   "execution_count": 16,
   "metadata": {
    "collapsed": false
   },
   "outputs": [
   ],
   "source": [
    "url = API_ROOT + 'search/tweets.json'\n",
    "params = {\n",
    "    'q': '#wud2016',\n",
    "    'result_type': 'recent',\n",
    "    'count': 100,\n",
    "}\n",
    "resp = requests.get(url, headers=HEADERS, params=params)\n",
    "search_data = resp.json()"
   ]
  },
  {
   "cell_type": "code",
   "execution_count": 24,
   "metadata": {
    "collapsed": false
   },
   "outputs": [
   ],
   "source": [
    "statuses = search_data['statuses']"
   ]
  },
  {
   "cell_type": "code",
   "execution_count": 18,
   "metadata": {
    "collapsed": false
   },
   "outputs": [
   ],
   "source": [
    "import networkx as nx\n",
    "\n",
    "retweet_graph = nx.DiGraph()\n",
    "for status in statuses:\n",
    "    if 'retweeted_status' in status:\n",
    "        retweeted_status = status['retweeted_status']\n",
    "        target = status['user']['screen_name']\n",
    "        source = retweeted_status['user']['screen_name']\n",
    "        if retweet_graph.has_edge(source, target):\n",
    "            retweet_graph.edge[source][target]['tweet_ids']\\\n",
    "            .append(status['id'])\n",
    "        else:\n",
    "            retweet_graph.add_edge(source, target, \n",
    "                                   tweet_ids=[status['id']])"
   ]
  },
  {
   "cell_type": "code",
   "execution_count": 19,
   "metadata": {
    "collapsed": false
   },
   "outputs": [
    {
     "data": {
      "image/png": "[encoded data removed]"
     },
     "output_type": "display_data"
    }
   ],
   "source": [
    "nx.draw(retweet_graph)"
   ]
  },
  {
   "cell_type": "code",
   "execution_count": 20,
   "metadata": {
    "collapsed": true
   },
   "outputs": [
   ],
   "source": [
    "edge_widths = []\n",
    "for source, target in retweet_graph.edges_iter():\n",
    "    tweet_ids = retweet_graph.edge[source][target]['tweet_ids']\n",
    "    edge_widths.append(len(tweet_ids))"
   ]
  },
  {
   "cell_type": "code",
   "execution_count": 21,
   "metadata": {
    "collapsed": false
   },
   "outputs": [
    {
     "data": {
      "image/png": "[encoded data removed]"
     },
     "output_type": "display_data"
    }
   ],
   "source": [
    "nx.draw(retweet_graph, width=edge_widths)"
   ]
  },
  {
   "cell_type": "code",
   "execution_count": 0,
   "metadata": {
    "collapsed": true
   },
   "outputs": [
   ],
   "source": [
   ]
  }
 ],
 "metadata": {
  "kernelspec": {
   "display_name": "Python 3 (Anaconda)",
   "language": "python",
   "name": "anaconda3"
  },
  "language_info": {
   "codemirror_mode": {
    "name": "ipython",
    "version": 3
   },
   "file_extension": ".py",
   "mimetype": "text/x-python",
   "name": "python",
   "nbconvert_exporter": "python",
   "pygments_lexer": "ipython3",
   "version": "3.5.3"
  }
 },
 "nbformat": 4,
 "nbformat_minor": 0
}